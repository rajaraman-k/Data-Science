{
 "cells": [
  {
   "cell_type": "markdown",
   "id": "colonial-pizza",
   "metadata": {},
   "source": [
    "1) Write a Python program to print \"Hello Python\"?\n",
    "\n",
    "2) Write a Python program to do arithmetical operations addition and division.?\n",
    "\n",
    "3) Write a Python program to find the area of a triangle?\n",
    "\n",
    "4) Write a Python program to swap two variables?\n",
    "\n",
    "5) Write a Python program to generate a random number?\n"
   ]
  },
  {
   "cell_type": "code",
   "execution_count": 1,
   "id": "premium-cleanup",
   "metadata": {},
   "outputs": [
    {
     "name": "stdout",
     "output_type": "stream",
     "text": [
      "Hello Python\n"
     ]
    }
   ],
   "source": [
    "#1) Write a Python program to print \"Hello Python\"?\n",
    "print(\"Hello Python\")"
   ]
  },
  {
   "cell_type": "code",
   "execution_count": 3,
   "id": "alike-graham",
   "metadata": {},
   "outputs": [
    {
     "name": "stdout",
     "output_type": "stream",
     "text": [
      "3\n",
      "4\n",
      "0.75\n",
      "7\n"
     ]
    }
   ],
   "source": [
    "#2) Write a Python program to do arithmetical operations addition and division.?\n",
    "i = int(input())\n",
    "j = int(input())\n",
    "print(i/j)\n",
    "print(i+j)"
   ]
  },
  {
   "cell_type": "code",
   "execution_count": 5,
   "id": "phantom-interpretation",
   "metadata": {},
   "outputs": [
    {
     "name": "stdout",
     "output_type": "stream",
     "text": [
      "3\n",
      "4\n",
      "Area of the triangle is: 6.0 cm ^2\n"
     ]
    }
   ],
   "source": [
    "#3) Write a Python program to find the area of a triangle?\n",
    "base = float(input())\n",
    "height = float(input())\n",
    "print(\"Area of the triangle is: {} cm ^2\".format(0.5 * base * height))"
   ]
  },
  {
   "cell_type": "code",
   "execution_count": 6,
   "id": "blond-medicaid",
   "metadata": {},
   "outputs": [
    {
     "name": "stdout",
     "output_type": "stream",
     "text": [
      "3\n",
      "8\n",
      "a : 8, b : 3.\n"
     ]
    }
   ],
   "source": [
    "#4) Write a Python program to swap two variables?\n",
    "a = input()\n",
    "b = input()\n",
    "a,b = b,a\n",
    "print(\"a : {}, b : {}.\".format(a,b))"
   ]
  },
  {
   "cell_type": "code",
   "execution_count": 8,
   "id": "subtle-tennis",
   "metadata": {},
   "outputs": [
    {
     "name": "stdout",
     "output_type": "stream",
     "text": [
      "0.65175570427205\n"
     ]
    }
   ],
   "source": [
    "#5) Write a Python program to generate a random number?\n",
    "import random\n",
    "print(random.random())"
   ]
  }
 ],
 "metadata": {
  "kernelspec": {
   "display_name": "Python 3",
   "language": "python",
   "name": "python3"
  },
  "language_info": {
   "codemirror_mode": {
    "name": "ipython",
    "version": 3
   },
   "file_extension": ".py",
   "mimetype": "text/x-python",
   "name": "python",
   "nbconvert_exporter": "python",
   "pygments_lexer": "ipython3",
   "version": "3.7.9"
  }
 },
 "nbformat": 4,
 "nbformat_minor": 5
}
