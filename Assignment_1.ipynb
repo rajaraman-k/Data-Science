{
 "cells": [
  {
   "cell_type": "markdown",
   "id": "constitutional-intent",
   "metadata": {},
   "source": [
    "1. What are the differences between operators and values in the following?\n",
    "\n",
    "*\n",
    "\n",
    "\n",
    "'hello'\n",
    "\n",
    "\n",
    "-87.8\n",
    "\n",
    "-\n",
    "\n",
    "/\n",
    "\n",
    "+\n",
    "\n",
    "6\n"
   ]
  },
  {
   "cell_type": "markdown",
   "id": "about-split",
   "metadata": {},
   "source": [
    "Ans:\n",
    "Operators work on values. The types of operators in Python are:\n",
    "Arithmetic operators,\n",
    "Assignment operators,\n",
    "Comparison operators,\n",
    "Logical operators,\n",
    "Identity operators,\n",
    "Membership operators,\n",
    "Bitwise operators.\n",
    "\n",
    "The * is an arithmetic operator used to multiply the values in its left and right side. \n",
    "\n",
    "'hello' is a string value. \n",
    "\n",
    "-87.8 is a float value.\n",
    "\n",
    "The - is an arithmetic operator to subtract the values in its two sides.\n",
    "\n",
    "The / is division arithmetic operator.\n",
    "\n",
    "The + is addition arithmetic operator.\n",
    "\n",
    "6 is an integer value.\n",
    "\n",
    "------------------------------------------------------------------------------------------------"
   ]
  },
  {
   "cell_type": "markdown",
   "id": "silent-laugh",
   "metadata": {},
   "source": [
    "2. What is the difference between string and variable?\n",
    "\n",
    "spam\n",
    "\n",
    "'spam'\n",
    "\n",
    "Ans: String is a datatype, enclosing an order of char (characters). Either using single '' or using double \"\", we may use strings.\n",
    "Variables are capable of storing any kind of datatypes like int, float, string etc. As mentioned earlier, they can also store strings. Variables are containers of information, we access the information using variables.\n",
    "\n",
    "Here, \n",
    "\n",
    "spam is a variable which is capable of storing the string 'spam'\n",
    "\n",
    "The syntax is,\n",
    "\n",
    "spam = 'spam'\n"
   ]
  },
  {
   "cell_type": "markdown",
   "id": "upset-throat",
   "metadata": {},
   "source": [
    "------------------------------------\n",
    "3. Describe three different data forms."
   ]
  },
  {
   "cell_type": "markdown",
   "id": "liquid-label",
   "metadata": {},
   "source": [
    "int, float and string. \n",
    "\n",
    "type int denotes integer, which means integer values. eg: 4, 5, 678695\n",
    "\n",
    "Float stands for decimal values. eg: 5.5, 7.9897\n",
    "\n",
    "String is another datatype, enclosing an order of char (characters). eg: 'spam'"
   ]
  },
  {
   "cell_type": "markdown",
   "id": "hourly-action",
   "metadata": {},
   "source": [
    "---------------------------------------------------------\n",
    "4. What makes up an expression? What are the functions of all expressions?\n",
    "\n",
    "Expressions are evaluated to produce True or False results, which would be used in conditional and looping statements. An expression is a combination of values, variables, operators, and calls to functions."
   ]
  },
  {
   "cell_type": "markdown",
   "id": "played-flooring",
   "metadata": {},
   "source": [
    "------------------------------------------\n",
    "5. In this chapter, assignment statements such as spam = 10 were added. What's the difference between a declaration and an expression?\n",
    "\n",
    "Function declarations in Python always starts with the keyword def, and are loaded before any code is executed, while Function expressions are loaded only when the interpreter enters the line of code.Anonymous functions are created in Function expression."
   ]
  },
  {
   "cell_type": "markdown",
   "id": "processed-parcel",
   "metadata": {},
   "source": [
    "-----------------------------------------------------\n",
    "6. After running the following code, what does the variable bacon contain?\n",
    "\n",
    "bacon = 22\n",
    "\n",
    "bacon + 1\n"
   ]
  },
  {
   "cell_type": "code",
   "execution_count": 4,
   "id": "operating-durham",
   "metadata": {},
   "outputs": [
    {
     "data": {
      "text/plain": [
       "23"
      ]
     },
     "execution_count": 4,
     "metadata": {},
     "output_type": "execute_result"
    }
   ],
   "source": [
    "bacon = 22\n",
    "bacon + 1"
   ]
  },
  {
   "cell_type": "code",
   "execution_count": 5,
   "id": "searching-proceeding",
   "metadata": {},
   "outputs": [
    {
     "data": {
      "text/plain": [
       "22"
      ]
     },
     "execution_count": 5,
     "metadata": {},
     "output_type": "execute_result"
    }
   ],
   "source": [
    "bacon"
   ]
  },
  {
   "cell_type": "markdown",
   "id": "associate-satellite",
   "metadata": {},
   "source": [
    "The variable \"bacon\" contains 22"
   ]
  },
  {
   "cell_type": "markdown",
   "id": "virgin-market",
   "metadata": {},
   "source": [
    "---------------------------------------------------------\n",
    "7. What should the values of the following two terms be?\n",
    "\n",
    "'spam' + 'spamspam'\n",
    "\n",
    "'spam' * 3\n"
   ]
  },
  {
   "cell_type": "code",
   "execution_count": 6,
   "id": "earlier-simulation",
   "metadata": {},
   "outputs": [
    {
     "data": {
      "text/plain": [
       "'spamspamspam'"
      ]
     },
     "execution_count": 6,
     "metadata": {},
     "output_type": "execute_result"
    }
   ],
   "source": [
    "'spam' + 'spamspam'"
   ]
  },
  {
   "cell_type": "code",
   "execution_count": 7,
   "id": "happy-moment",
   "metadata": {},
   "outputs": [
    {
     "data": {
      "text/plain": [
       "'spamspamspam'"
      ]
     },
     "execution_count": 7,
     "metadata": {},
     "output_type": "execute_result"
    }
   ],
   "source": [
    "'spam' * 3"
   ]
  },
  {
   "cell_type": "markdown",
   "id": "manufactured-detail",
   "metadata": {},
   "source": [
    "-------------------------------------\n",
    "8. Why is it that eggs is a true variable name but 100 is not?\n",
    "\n",
    "A variable name may start with an underscore (_) or (a-z or A-Z) alphabet characters. eggs is a proper variable name but 100 starts with a number. Variable name cannot start with a number."
   ]
  },
  {
   "cell_type": "markdown",
   "id": "satellite-flour",
   "metadata": {},
   "source": [
    "-----------------------------------------\n",
    "9. Which of the following three functions may be used to convert a value to an integer, a floating-point number, or a string?\n",
    "\n",
    "i = 9.2\n",
    "\n",
    "To convert to int, int(i) can be used. \n",
    "\n",
    "To convert to float, float(i) can be used. (It is currently in float).\n",
    "\n",
    "To convert a string, str(i) can be used."
   ]
  },
  {
   "cell_type": "code",
   "execution_count": 18,
   "id": "fixed-works",
   "metadata": {},
   "outputs": [
    {
     "name": "stdout",
     "output_type": "stream",
     "text": [
      "9\n",
      "9.2\n",
      "9.2\n"
     ]
    }
   ],
   "source": [
    "i = 9.2\n",
    "print(int(i))\n",
    "print(float(i))\n",
    "print(str(i))"
   ]
  },
  {
   "cell_type": "markdown",
   "id": "detailed-pathology",
   "metadata": {},
   "source": [
    "-----------------------------------------------------------------\n",
    "10. What is the error caused by this expression? What would you do about it?\n",
    "\n",
    "'I have eaten ' + 99 + ' burritos.'\n"
   ]
  },
  {
   "cell_type": "code",
   "execution_count": 10,
   "id": "trained-struggle",
   "metadata": {},
   "outputs": [
    {
     "ename": "TypeError",
     "evalue": "can only concatenate str (not \"int\") to str",
     "output_type": "error",
     "traceback": [
      "\u001b[1;31m---------------------------------------------------------------------------\u001b[0m",
      "\u001b[1;31mTypeError\u001b[0m                                 Traceback (most recent call last)",
      "\u001b[1;32m<ipython-input-10-d24137131a5c>\u001b[0m in \u001b[0;36m<module>\u001b[1;34m\u001b[0m\n\u001b[1;32m----> 1\u001b[1;33m \u001b[1;34m'I have eaten '\u001b[0m \u001b[1;33m+\u001b[0m \u001b[1;36m99\u001b[0m \u001b[1;33m+\u001b[0m \u001b[1;34m' burritos.'\u001b[0m\u001b[1;33m\u001b[0m\u001b[1;33m\u001b[0m\u001b[0m\n\u001b[0m",
      "\u001b[1;31mTypeError\u001b[0m: can only concatenate str (not \"int\") to str"
     ]
    }
   ],
   "source": [
    "'I have eaten ' + 99 + ' burritos.'"
   ]
  },
  {
   "cell_type": "code",
   "execution_count": 11,
   "id": "indie-ferry",
   "metadata": {},
   "outputs": [
    {
     "data": {
      "text/plain": [
       "'I have eaten 99 burritos.'"
      ]
     },
     "execution_count": 11,
     "metadata": {},
     "output_type": "execute_result"
    }
   ],
   "source": [
    "'I have eaten ' + '99' + ' burritos.'"
   ]
  },
  {
   "cell_type": "markdown",
   "id": "corrected-answer",
   "metadata": {},
   "source": [
    "type int is typecasted to string hence it can be concatenated with other values of type str. Concatenation can happen only with str. This is an example of Strong Typing.\n",
    "\n",
    "-----------------------------"
   ]
  }
 ],
 "metadata": {
  "kernelspec": {
   "display_name": "Python 3",
   "language": "python",
   "name": "python3"
  },
  "language_info": {
   "codemirror_mode": {
    "name": "ipython",
    "version": 3
   },
   "file_extension": ".py",
   "mimetype": "text/x-python",
   "name": "python",
   "nbconvert_exporter": "python",
   "pygments_lexer": "ipython3",
   "version": "3.7.9"
  }
 },
 "nbformat": 4,
 "nbformat_minor": 5
}
