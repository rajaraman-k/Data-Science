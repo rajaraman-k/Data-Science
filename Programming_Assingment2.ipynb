{
 "cells": [
  {
   "cell_type": "markdown",
   "id": "green-juice",
   "metadata": {},
   "source": [
    "1) Write a Python program to convert kilometers to miles?\n",
    "\n",
    "2) Write a Python program to convert Celsius to Fahrenheit?\n",
    "\n",
    "3) Write a Python program to display calendar?\n",
    "\n",
    "4) Write a Python program to solve quadratic equation?\n",
    "\n",
    "5) Write a Python program to swap two variables without temp variable?"
   ]
  },
  {
   "cell_type": "code",
   "execution_count": 5,
   "id": "historic-spirit",
   "metadata": {},
   "outputs": [
    {
     "name": "stdout",
     "output_type": "stream",
     "text": [
      "3.5\n",
      "2.17 miles\n"
     ]
    }
   ],
   "source": [
    "#1) Write a Python program to convert kilometers to miles?\n",
    "kilometers = float(input())\n",
    "c_factor = 0.621371\n",
    "print(\"{0:.2f} miles\".format(kilometers * c_factor))"
   ]
  },
  {
   "cell_type": "code",
   "execution_count": 16,
   "id": "indonesian-mobility",
   "metadata": {},
   "outputs": [
    {
     "name": "stdout",
     "output_type": "stream",
     "text": [
      "37\n",
      "37.0 C -> 98.6 F\n"
     ]
    }
   ],
   "source": [
    "#2) Write a Python program to convert Celsius to Fahrenheit?\n",
    "celsius = float(input())\n",
    "fahrenheit = (celsius * 9/5) + 32\n",
    "print(\"{0:.1f} C -> {1:.1f} F\".format(celsius, fahrenheit))"
   ]
  },
  {
   "cell_type": "code",
   "execution_count": 23,
   "id": "expected-swedish",
   "metadata": {},
   "outputs": [
    {
     "name": "stdout",
     "output_type": "stream",
     "text": [
      "2021\n",
      "3\n",
      "     March 2021\n",
      "Mo Tu We Th Fr Sa Su\n",
      " 1  2  3  4  5  6  7\n",
      " 8  9 10 11 12 13 14\n",
      "15 16 17 18 19 20 21\n",
      "22 23 24 25 26 27 28\n",
      "29 30 31\n",
      "\n"
     ]
    }
   ],
   "source": [
    "#3) Write a Python program to display calendar?\n",
    "import calendar\n",
    "yy = int(input())\n",
    "mm = int(input())\n",
    "print(calendar.month(yy,mm))"
   ]
  },
  {
   "cell_type": "code",
   "execution_count": 35,
   "id": "beautiful-movement",
   "metadata": {},
   "outputs": [
    {
     "name": "stdout",
     "output_type": "stream",
     "text": [
      "3\n",
      "4\n",
      "-8\n",
      "Root1 :  (-2.4305008740430605+0j)\n",
      "Root2 :  (1.0971675407097272+0j)\n"
     ]
    }
   ],
   "source": [
    "#4) Write a Python program to solve quadratic equation?\n",
    "import cmath\n",
    "a = int(input())\n",
    "b = int(input())\n",
    "c = int(input())\n",
    "d = (b ** 2) - (4*a*c)\n",
    "if(a == 0):\n",
    "    print(\"not at all a quadratic equation\")\n",
    "else:\n",
    "    r = (- b - cmath.sqrt(d))/(2 * a)\n",
    "    s = (- b + cmath.sqrt(d))/(2 * a)\n",
    "    print(\"Root1 : \",r)\n",
    "    print(\"Root2 : \",s)"
   ]
  },
  {
   "cell_type": "code",
   "execution_count": 17,
   "id": "hollywood-machine",
   "metadata": {},
   "outputs": [
    {
     "name": "stdout",
     "output_type": "stream",
     "text": [
      "35\n",
      "84\n",
      "a : 84, b : 35\n"
     ]
    }
   ],
   "source": [
    "#5) Write a Python program to swap two variables without temp variable?\n",
    "a = int(input())\n",
    "b = int(input())\n",
    "a = a + b\n",
    "b = a - b\n",
    "a = a - b\n",
    "print(\"a : {}, b : {}\".format(a,b))"
   ]
  }
 ],
 "metadata": {
  "kernelspec": {
   "display_name": "Python 3",
   "language": "python",
   "name": "python3"
  },
  "language_info": {
   "codemirror_mode": {
    "name": "ipython",
    "version": 3
   },
   "file_extension": ".py",
   "mimetype": "text/x-python",
   "name": "python",
   "nbconvert_exporter": "python",
   "pygments_lexer": "ipython3",
   "version": "3.7.9"
  }
 },
 "nbformat": 4,
 "nbformat_minor": 5
}
